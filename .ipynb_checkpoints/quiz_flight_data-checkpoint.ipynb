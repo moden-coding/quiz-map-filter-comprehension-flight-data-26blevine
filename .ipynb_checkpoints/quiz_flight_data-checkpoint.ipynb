{
 "cells": [
  {
   "cell_type": "markdown",
   "id": "c5d33370",
   "metadata": {
    "id": "c5d33370"
   },
   "source": [
    "\n",
    "#Flight Departure Sample (On‑Time & Delays)\n",
    "**Instructions:**  \n",
    "- You will work directly in this notebook.  \n",
    "- For each task, write *both* your code **and** a short explanation of how your code works (1–3 sentences).  \n",
    "- Keep your answers in the provided `# TODO` cells. Do not delete the original dataset cells.\n",
    "\n",
    "---\n"
   ]
  },
  {
   "cell_type": "markdown",
   "id": "397fd34c",
   "metadata": {
    "id": "397fd34c"
   },
   "source": [
    "**Dataset:** A small, realistic sample inspired by U.S. domestic flight records. Fields per record:  \n",
    "`flight_id, airline, origin, dest, dep_delay_minutes, arr_delay_minutes, distance_miles`\n",
    "\n",
    "> A negative delay means the plane **departed/arrived early**. An on-time arrival is defined as `arr_delay_minutes ≤ 0`.\n"
   ]
  },
  {
   "cell_type": "code",
   "execution_count": 4,
   "id": "0662cb00",
   "metadata": {
    "id": "0662cb00"
   },
   "outputs": [
    {
     "data": {
      "text/plain": [
       "(20,\n",
       " [(101, 'DL', 'BOS', 'ATL', 15, -2, 946),\n",
       "  (102, 'DL', 'BOS', 'DTW', -3, -5, 632),\n",
       "  (111, 'DL', 'ATL', 'MIA', 25, 18, 594)])"
      ]
     },
     "execution_count": 4,
     "metadata": {},
     "output_type": "execute_result"
    }
   ],
   "source": [
    "\n",
    "#flight_id, airline, origin, dest, dep_delay_minutes, arr_delay_minutes, distance_miles\n",
    "\n",
    "# ----- DATA: Flights -----\n",
    "flights = [\n",
    "   (101, \"DL\", \"BOS\", \"ATL\",  15,  -2,   946),\n",
    "    (102, \"DL\", \"BOS\", \"DTW\",  -3,  -5,   632),\n",
    "    (111, \"DL\", \"ATL\", \"MIA\",  25,  18,   594),\n",
    "    (112, \"DL\", \"LAX\", \"JFK\", -5,   45,  2475),\n",
    "    (103, \"AA\", \"JFK\", \"CLT\",  40,  35,   541),\n",
    "    (104, \"AA\", \"LGA\", \"ORD\",  -7, -10,   733),\n",
    "    (113, \"AA\", \"DFW\", \"LAX\",  12,   5,  1235),\n",
    "    (114, \"AA\", \"PHL\", \"MIA\",  60,  75,  1013),\n",
    "    (105, \"UA\", \"EWR\", \"DEN\",  52,  60,  1605),\n",
    "    (106, \"UA\", \"BOS\", \"IAD\",   5,  -3,   413),\n",
    "    (115, \"UA\", \"ORD\", \"SFO\",  30,  25,  1846),\n",
    "    (116, \"UA\", \"LAX\", \"HNL\", -15,  40,  2556),\n",
    "    (107, \"B6\", \"JFK\", \"MCO\",  28,  22,   944),\n",
    "    (108, \"B6\", \"BOS\", \"FLL\",  -2,  -8,  1240),\n",
    "    (117, \"B6\", \"FLL\", \"AUS\",  20,  15,  1105),\n",
    "    (118, \"B6\", \"LAX\", \"BOS\",  55,  50,  2611),\n",
    "    (109, \"WN\", \"BOS\", \"BWI\",  12,  -1,   369),\n",
    "    (110, \"WN\", \"BOS\", \"MDW\",  20,  18,   853),\n",
    "    (119, \"WN\", \"DAL\", \"HOU\",   5,   0,    239),\n",
    "    (120, \"WN\", \"PHX\", \"LAS\", -12, -15,   255),\n",
    "]\n",
    "len(flights), flights[:3]\n"
   ]
  },
  {
   "cell_type": "markdown",
   "id": "780967e5",
   "metadata": {
    "id": "780967e5"
   },
   "source": [
    "\n",
    "## Tasks (answer all)\n",
    "1. **On-time flights:** Create a list **on_time_ids** of flight IDs where the arrival delay (arr_delay_min) is ≤ 0. The list might look like: [212, 251,...], but with the appropriate flight numbers from the data above."
   ]
  },
  {
   "cell_type": "code",
   "execution_count": 44,
   "id": "Tm5B0JEAOB3q",
   "metadata": {
    "id": "Tm5B0JEAOB3q"
   },
   "outputs": [
    {
     "name": "stdout",
     "output_type": "stream",
     "text": [
      "[101, 102, 104, 106, 108, 109, 119, 120]\n",
      "[101, 102, 104, 106, 108, 109, 119, 120]\n"
     ]
    }
   ],
   "source": [
    "on_time_ids = list(filter(lambda x: x[5]<=0, flights))\n",
    "on_time_ids_map = list(map(lambda x:x[0], on_time_ids))\n",
    "print(on_time_ids_map)\n",
    "\n",
    "on_time_ids_listComp = [flight[0] for flight in flights if flight[5]<=0]\n",
    "print(on_time_ids_listComp)\n",
    "\n",
    "#this code takes the original list of flights and filters only the on time / early flights, \n",
    "#leaving delayed landings out of the new list\n",
    "\n",
    "#then, I mapped that new list to only include the id numbers of the flights, rather than their entire dataset\n",
    "\n",
    "#I also did a list comprehension of this using similar logic\n",
    "\n"
   ]
  },
  {
   "cell_type": "code",
   "execution_count": null,
   "id": "5cIDOSKnOCLh",
   "metadata": {
    "id": "5cIDOSKnOCLh"
   },
   "outputs": [],
   "source": []
  },
  {
   "cell_type": "markdown",
   "id": "VPRLDvH1OD0y",
   "metadata": {
    "id": "VPRLDvH1OD0y"
   },
   "source": [
    "2.  **Worst flights ever**: Create a list `red_eye_misery` of (origin, destination, dep_delay_min, arr_delay_min, distance_miles) for flights that are the worst of both worlds:\n",
    "\n",
    "*   They are long-haul flights (distance_miles >= 1500),\n",
    "*   They depart early (dep_delay_min < 0), but\n",
    "*   Still arrive late (arr_delay_min > 0).\n",
    "\n",
    "The result should be a list of tuples."
   ]
  },
  {
   "cell_type": "code",
   "execution_count": 22,
   "id": "Xejx774VU4oI",
   "metadata": {
    "id": "Xejx774VU4oI"
   },
   "outputs": [
    {
     "name": "stdout",
     "output_type": "stream",
     "text": [
      "[(112, 'DL', 'LAX', 'JFK', -5, 45, 2475), (116, 'UA', 'LAX', 'HNL', -15, 40, 2556)]\n",
      "[(112, 'DL', 'LAX', 'JFK', -5, 45, 2475), (116, 'UA', 'LAX', 'HNL', -15, 40, 2556)]\n"
     ]
    }
   ],
   "source": [
    "def misery(flight):\n",
    "    flight_id, airline, origin, dest, dep_delay_minutes, arr_delay_minutes, distance_miles = flight\n",
    "    return distance_miles >= 1500 and dep_delay_minutes < 0 and arr_delay_minutes > 0\n",
    "    \n",
    "\n",
    "red_eye_misery_filter = list(filter(misery, flights))\n",
    "print(red_eye_misery_filter)\n",
    "\n",
    "#to make my code easier to read, I created a separate function to determine whether the flight is considered 'worst'\n",
    "#i then filtered these flights into a list based on the function\n",
    "\n",
    "red_eye_misery_listcomp = [flight for flight in flights if misery(flight)]\n",
    "print(red_eye_misery_listcomp)\n",
    "\n",
    "#i used the same function in my list comprehension"
   ]
  },
  {
   "cell_type": "markdown",
   "id": "1z25_dSnOEKq",
   "metadata": {
    "id": "1z25_dSnOEKq"
   },
   "source": [
    "3. **Late arrivals:** Build a dictionary `late_flight` mapping flight_id -> {\"long\": bool, \"ontime\": bool} where:\n",
    "*   `\"long\"` is `True` if the flight distance is ≥ 1500 miles\n",
    "*  `\"ontime\"` is `True` if the flight arrived on time (`arr_delay_min` <= 0)\n",
    "\n",
    "\n",
    "\n"
   ]
  },
  {
   "cell_type": "code",
   "execution_count": 17,
   "id": "I_Bn6QU-OEZA",
   "metadata": {
    "id": "I_Bn6QU-OEZA"
   },
   "outputs": [],
   "source": [
    "late_flight = {flight_id:{\"long\":distance_miles >= 1500, \"ontime\":arr_delay_minutes <= 0} for flight_id, airline, origin, dest, dep_delay_minutes, arr_delay_minutes, distance_miles in flights}\n",
    "\n",
    "#in my list comprehension, I drew out all of the values from each flight in the flights list\n",
    "#then i assigned the flight_id as the key for my nested dictionary and calculated the appropriate booleans for the values within\n",
    "\n",
    "#im not sure that there exists a way to map/filter/reduce the nested dictionaries?"
   ]
  },
  {
   "cell_type": "code",
   "execution_count": null,
   "id": "5b34b74e-ef5d-4d27-adc5-16f727437c7a",
   "metadata": {},
   "outputs": [],
   "source": []
  }
 ],
 "metadata": {
  "colab": {
   "provenance": []
  },
  "kernelspec": {
   "display_name": "Python [conda env:base] *",
   "language": "python",
   "name": "conda-base-py"
  },
  "language_info": {
   "codemirror_mode": {
    "name": "ipython",
    "version": 3
   },
   "file_extension": ".py",
   "mimetype": "text/x-python",
   "name": "python",
   "nbconvert_exporter": "python",
   "pygments_lexer": "ipython3",
   "version": "3.13.5"
  }
 },
 "nbformat": 4,
 "nbformat_minor": 5
}
